{
 "cells": [
  {
   "cell_type": "code",
   "execution_count": 10,
   "id": "337e73ff-6a20-44bd-8472-948593594dd4",
   "metadata": {},
   "outputs": [],
   "source": [
    "from crewai import Agent, Task, Crew\n",
    "from langchain_ollama import ChatOllama\n",
    "import os"
   ]
  },
  {
   "cell_type": "code",
   "execution_count": 11,
   "id": "f22c0c1c-6f3c-49fd-8ab1-25acc8488333",
   "metadata": {},
   "outputs": [],
   "source": [
    "os.environ[\"OPENAI_API_KEY\"] = \"NA\""
   ]
  },
  {
   "cell_type": "code",
   "execution_count": 17,
   "id": "9d61b08e-b6fd-4690-9e63-3e287484ef85",
   "metadata": {},
   "outputs": [],
   "source": [
    "llm = ChatOllama(\n",
    "    model = \"llama3\",\n",
    "    base_url = \"http://localhost:11434\")"
   ]
  },
  {
   "cell_type": "code",
   "execution_count": 18,
   "id": "9610701f-a959-4e42-a922-561f005333da",
   "metadata": {},
   "outputs": [],
   "source": [
    "general_agent = Agent(role = \"Math Professor\",\n",
    "                      goal = \"\"\"Provide the solution to the students that are asking mathematical questions and give them the answer.\"\"\",\n",
    "                      backstory = \"\"\"You are an excellent math professor that likes to solve math questions in a way that everyone can understand your solution\"\"\",\n",
    "                      allow_delegation = False,\n",
    "                      verbose = True,\n",
    "                      llm = llm)"
   ]
  },
  {
   "cell_type": "code",
   "execution_count": 19,
   "id": "f14f146b-69dd-4f2f-bfe9-08809b7c65c9",
   "metadata": {},
   "outputs": [],
   "source": [
    "task = Task(description=\"\"\"what is 3 + 5\"\"\",\n",
    "             agent = general_agent,\n",
    "             expected_output=\"A numerical answer.\")\n"
   ]
  },
  {
   "cell_type": "code",
   "execution_count": 20,
   "id": "6c4ea958-897b-4082-8dda-ac1af3baa1c0",
   "metadata": {},
   "outputs": [
    {
     "name": "stderr",
     "output_type": "stream",
     "text": [
      "2024-08-16 00:50:44,240 - 8514124480 - __init__.py-__init__:531 - WARNING: Overriding of current TracerProvider is not allowed\n"
     ]
    }
   ],
   "source": [
    "crew = Crew(\n",
    "            agents=[general_agent],\n",
    "            tasks=[task],\n",
    "            verbose=True\n",
    "        )"
   ]
  },
  {
   "cell_type": "code",
   "execution_count": 21,
   "id": "9f59c4f0-a195-4eb0-aae3-8188da073597",
   "metadata": {},
   "outputs": [
    {
     "name": "stdout",
     "output_type": "stream",
     "text": [
      "\u001b[1m\u001b[95m [2024-08-16 00:50:44][DEBUG]: == Working Agent: Math Professor\u001b[00m\n",
      "\u001b[1m\u001b[95m [2024-08-16 00:50:44][INFO]: == Starting Task: what is 3 + 5\u001b[00m\n",
      "\n",
      "\n",
      "\u001b[1m> Entering new CrewAgentExecutor chain...\u001b[0m\n",
      "\u001b[32;1m\u001b[1;3mI'm so excited to help with this task! As an excellent math professor, I want to make sure that my solution is clear and easy to understand. Here's my thought process:\n",
      "\n",
      "\"Okay, let's take a look at the problem: 3 + 5. This is a simple addition problem, and we can solve it by combining the two numbers together. To do this, I'll start by thinking about what each number means. The number 3 represents three units or groups of something, and the number 5 represents five more units or groups of the same thing. When we add these numbers together, we're essentially counting how many units or groups there are in total.\n",
      "\n",
      "\"So, if we have three units and we add five more units, that means we now have a total of... (drumroll please)... eight units! That's right, 3 + 5 = 8. This solution is straightforward and easy to understand because it breaks down the problem into smaller, more manageable pieces.\"\n",
      "\n",
      "Final Answer:\n",
      "\n",
      "8\u001b[0m\n",
      "\n",
      "\u001b[1m> Finished chain.\u001b[0m\n",
      "\u001b[1m\u001b[92m [2024-08-16 00:51:04][DEBUG]: == [Math Professor] Task output: 8\n",
      "\n",
      "\u001b[00m\n"
     ]
    }
   ],
   "source": [
    "result = crew.kickoff()"
   ]
  },
  {
   "cell_type": "code",
   "execution_count": null,
   "id": "a2e61469-61a1-4d9b-a0cb-534874841b11",
   "metadata": {},
   "outputs": [],
   "source": [
    "print(result)"
   ]
  }
 ],
 "metadata": {
  "kernelspec": {
   "display_name": "Python 3 (ipykernel)",
   "language": "python",
   "name": "python3"
  },
  "language_info": {
   "codemirror_mode": {
    "name": "ipython",
    "version": 3
   },
   "file_extension": ".py",
   "mimetype": "text/x-python",
   "name": "python",
   "nbconvert_exporter": "python",
   "pygments_lexer": "ipython3",
   "version": "3.12.4"
  }
 },
 "nbformat": 4,
 "nbformat_minor": 5
}
